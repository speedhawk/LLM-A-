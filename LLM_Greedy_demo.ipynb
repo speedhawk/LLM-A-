{
  "nbformat": 4,
  "nbformat_minor": 0,
  "metadata": {
    "colab": {
      "provenance": [],
      "authorship_tag": "ABX9TyPiVuqcG7Wftnc8Jf8eAx7G",
      "include_colab_link": true
    },
    "kernelspec": {
      "name": "python3",
      "display_name": "Python 3"
    },
    "language_info": {
      "name": "python"
    }
  },
  "cells": [
    {
      "cell_type": "markdown",
      "metadata": {
        "id": "view-in-github",
        "colab_type": "text"
      },
      "source": [
        "<a href=\"https://colab.research.google.com/github/speedhawk/LLM-A-/blob/main/LLM_Greedy_demo.ipynb\" target=\"_parent\"><img src=\"https://colab.research.google.com/assets/colab-badge.svg\" alt=\"Open In Colab\"/></a>"
      ]
    },
    {
      "cell_type": "code",
      "execution_count": null,
      "metadata": {
        "colab": {
          "base_uri": "https://localhost:8080/"
        },
        "id": "OnhahuZ84rTO",
        "outputId": "cc5a7996-28a9-4f84-c68b-8df1d2582100"
      },
      "outputs": [
        {
          "output_type": "stream",
          "name": "stdout",
          "text": [
            "Mounted at /content/gdrive\n"
          ]
        }
      ],
      "source": [
        "from google.colab import drive\n",
        "drive.mount('/content/gdrive')"
      ]
    },
    {
      "cell_type": "code",
      "source": [
        "from IPython.display import HTML, display\n",
        "\n",
        "def set_css():\n",
        "  display(HTML('''\n",
        "  <style>\n",
        "    pre {\n",
        "        white-space: pre-wrap;\n",
        "    }\n",
        "  </style>\n",
        "  '''))\n",
        "get_ipython().events.register('pre_run_cell', set_css)"
      ],
      "metadata": {
        "id": "fSF2-bMD400l"
      },
      "execution_count": null,
      "outputs": []
    },
    {
      "cell_type": "code",
      "source": [
        "!pip install openai==0.28"
      ],
      "metadata": {
        "id": "fTjU1qJI42UZ"
      },
      "execution_count": null,
      "outputs": []
    },
    {
      "cell_type": "code",
      "source": [
        "import math\n",
        "import matplotlib\n",
        "import matplotlib.pyplot as plt\n",
        "import numpy as np\n",
        "import pandas as pd\n",
        "import json\n",
        "import openai\n",
        "import copy\n",
        "import re\n",
        "import openpyxl"
      ],
      "metadata": {
        "colab": {
          "base_uri": "https://localhost:8080/",
          "height": 17
        },
        "id": "tg74x0_-432b",
        "outputId": "53bc5499-59fd-4959-ff9b-693f643ef5a7"
      },
      "execution_count": null,
      "outputs": [
        {
          "output_type": "display_data",
          "data": {
            "text/plain": [
              "<IPython.core.display.HTML object>"
            ],
            "text/html": [
              "\n",
              "  <style>\n",
              "    pre {\n",
              "        white-space: pre-wrap;\n",
              "    }\n",
              "  </style>\n",
              "  "
            ]
          },
          "metadata": {}
        }
      ]
    },
    {
      "cell_type": "code",
      "source": [
        "class Astar_LLM_ImgData():\n",
        "  def __init__(self, path, start, goal, env_discription, map_range, max_margin, map_sheet='Sheet1', dis_table_sheet='Sheet2') -> None:\n",
        "      self.file_path = path\n",
        "      self.map_sheet = map_sheet\n",
        "      self.dis_table_sheet = dis_table_sheet\n",
        "      self.map_range = map_range\n",
        "      self.max_margin = max_margin\n",
        "      self.map = None\n",
        "      self.dis_table = None\n",
        "      self.result_demo = np.ones((self.max_margin, self.max_margin, 3))\n",
        "      self.action_space = {0: [-1, 0], 1: [1, 0], 2: [0, 1], 3: [0, -1], 4: [-1, 1],\n",
        "                           5: [-1, -1], 6: [1, 1], 7: [1, -1]}\n",
        "\n",
        "      self.start_node = start\n",
        "      self.target_node = goal\n",
        "      self.cur_node = self.start_node\n",
        "      self.opt_path = []\n",
        "      self.search_history = [start]\n",
        "      self.env_discription = env_discription\n",
        "\n",
        "      self.openai_key = 'YOUR_KEY'\n",
        "      self.ini_massages = None\n",
        "\n",
        "  def generate_map(self):\n",
        "    wb = openpyxl.load_workbook(self.file_path)\n",
        "    ws = wb[self.map_sheet]\n",
        "    _range = self.map_range\n",
        "    map = []\n",
        "    for row in ws[_range]:\n",
        "      map_row = []\n",
        "      for cell in row:\n",
        "        map_row.append(cell.value)\n",
        "      map.append(map_row)\n",
        "    map = np.array(map) # shape: [32, 32] or [16, 16]\n",
        "    self.map = map\n",
        "\n",
        "  def generate_dis_table(self):\n",
        "    wb = openpyxl.load_workbook(self.file_path)\n",
        "    ws = wb[self.dis_table_sheet]\n",
        "    _range = self.map_range\n",
        "    dis_table = []\n",
        "    for row in ws[_range]:\n",
        "      dis_table_row = []\n",
        "      for cell in row:\n",
        "        dis_table_row.append(cell.value)\n",
        "      dis_table.append(dis_table_row)\n",
        "    dis_table = np.array(dis_table) # shape: [32, 32] or [16, 16]\n",
        "    self.dis_table = dis_table\n",
        "\n",
        "  def message_initialize(self):\n",
        "    openai.api_key = self.openai_key\n",
        "    messages = [{'role': 'system', 'content': 'You are a good assistant! Man!'}, ]\n",
        "\n",
        "    # tell the basic information of the map\n",
        "    grid_world_inf = \"We have a \" + str(self.max_margin) + \"*\" + str(self.max_margin) + \" grid map in which there are totally \" + str(int(self.max_margin * self.max_margin)) + \" grids inside. In this map, we use [i, j] to represent the grid of ith row and jth column. Additionally, there is a binary number which is ‘1’ or ‘0’ in each grid to represent the obstacle conditions that ‘1’ means the grid is free whilst ‘0’ means the grid has been occupied by an obstacle and the agent cannot move to it. Our objective is to make an agent at the starting node to bypass obstacles and reach the designated target node. Considering the token limitation problem, please correctly and precisely remember the information above and do not return to much contexts for not only this but also the following prompt. Here is the detail information below. \"\n",
        "    print(\"User: \", grid_world_inf)\n",
        "    messages.append({'role': 'user', 'content': grid_world_inf}, )\n",
        "    chat_for_task = openai.ChatCompletion.create(model='gpt-3.5-turbo-16k', messages=messages)\n",
        "    reply_for_task = chat_for_task.choices[0].message.content\n",
        "    print(f\"ChatGPT: {reply_for_task}\")\n",
        "    messages.append({'role': 'assistant', 'content': reply_for_task})\n",
        "\n",
        "    # tell the start_node and target_node:\n",
        "    start_and_target = \"Start node: \" + str(self.start_node) + \"; Target node: \" + str(self.target_node) + \" which is at the agent's lowerleft direction. \"\n",
        "    print(\"User: \", start_and_target)\n",
        "    messages.append({'role': 'user', 'content': start_and_target}, )\n",
        "    chat_for_task = openai.ChatCompletion.create(model='gpt-3.5-turbo-16k', messages=messages)\n",
        "    reply_for_task = chat_for_task.choices[0].message.content\n",
        "    print(f\"ChatGPT: {reply_for_task}\")\n",
        "    messages.append({'role': 'assistant', 'content': reply_for_task})\n",
        "\n",
        "    # tell the obstacle information.\n",
        "    obstacles_inf = \"Obstacles: This map includes four obstacles respectively located at region A, B, C, and D. This is the detail decription of grid regions occupied by obstacles, we deployed i and j as the index of row and column: Region A: i: [0:26], j: [0:10]; Region B: i: [0:20], j: [11:21]; Region C: i: [30:31], j: [10:21]; Region D: i: [23:31], j: [21:31] except the grid i=23 and j=21. Considering the token limitation problem, please correctly and precisely remember the information above and do not return to much contexts for not only this but also the following prompt.\"\n",
        "    print(\"User: \", obstacles_inf)\n",
        "    messages.append({'role': 'user', 'content': obstacles_inf}, )\n",
        "    chat_for_task = openai.ChatCompletion.create(model='gpt-3.5-turbo-16k', messages=messages)\n",
        "    reply_for_task = chat_for_task.choices[0].message.content\n",
        "    print(f\"ChatGPT: {reply_for_task}\")\n",
        "    messages.append({'role': 'assistant', 'content': reply_for_task})\n",
        "\n",
        "    # tell the agent action space and distance standard\n",
        "    action_inf = \"Agent action space (set current coordinate of the agent is [i, j]): Action 0: move up ([i, j] -> [i-1, j]); Action 1: move down ([i, j] -> [i+1, j]); Action 2: move right ([i, j] -> [i, j+1]); Action 3: move left ([i, j] -> [i, j-1]); Action 4: move upper right [i, j] -> [i-1, j+1] Action 5: move upper left ([i, j] -> [i-1, j-1]); Action 6: move lower right ([i, j] -> [i+1, j+1]); Action 7: move lower left ([i, j] -> [i+1, j-1]). Notice: 1. In this map, row index i increases from upward direction to downward direction, whilst column index j increases from leftward direction to righward direction. 2. When the agent is located in a grid adjacent to an obstacle, some actions in the action space will not be achieved. Please dynamically adjust the agent's actions at runtime. Distance standard: Euclidean distance. Considering the token limitation problem, please correctly and precisely remember the information above and do not return to much contexts for not only this but also the following prompt.\"\n",
        "    print(\"User: \", action_inf)\n",
        "    messages.append({'role': 'user', 'content': action_inf}, )\n",
        "    chat_for_task = openai.ChatCompletion.create(model='gpt-3.5-turbo-16k', messages=messages)\n",
        "    reply_for_task = chat_for_task.choices[0].message.content\n",
        "    print(f\"ChatGPT: {reply_for_task}\")\n",
        "    messages.append({'role': 'assistant', 'content': reply_for_task})\n",
        "\n",
        "\n",
        "    # tell the objective\n",
        "    obj_inf = \"Our objective is to move the agent step by step with the actions above bypassing the obstacles from the start node to the target node. Considering the token limitation problem, please correctly and precisely remember the information above and do not return to much contexts for not only this but also the following prompt.\"\n",
        "    print(\"User: \", obj_inf)\n",
        "    messages.append({'role': 'user', 'content': obj_inf}, )\n",
        "    chat_for_task = openai.ChatCompletion.create(model='gpt-3.5-turbo-16k', messages=messages)\n",
        "    reply_for_task = chat_for_task.choices[0].message.content\n",
        "    print(f\"ChatGPT: {reply_for_task}\")\n",
        "    messages.append({'role': 'assistant', 'content': reply_for_task})\n",
        "\n",
        "    self.ini_massages = copy.deepcopy(messages)\n",
        "\n",
        "  def extract_node(self, reply):\n",
        "    \"\"\"\n",
        "    This method is to extract the nodes of the search space in each step molocation. Commonly, there are multi-numbers\n",
        "    of coordinate tuples in the context. Therefore, it is fairly different from extract_node() function.\n",
        "    \"\"\"\n",
        "    context = reply\n",
        "    pattern = r'\\[[\\d,\\s]+\\]'\n",
        "    try:\n",
        "      lists = re.findall(pattern, context)\n",
        "      search_nodes = [eval(lst) for lst in lists]\n",
        "    except IndexError:\n",
        "      print('Empty list. It is caused by error output of LLM.')\n",
        "    finally:\n",
        "      if len(search_nodes) == 0:\n",
        "        return search_nodes\n",
        "      else:\n",
        "        return search_nodes[-1]\n",
        "\n",
        "  def greedy_decision(self, opt_actions):\n",
        "\n",
        "    \"\"\"\n",
        "    This function aims to select the optimal item from the action lists provided by LLM.\n",
        "    Simultaneously, the nodes with errors (like obstacles or out of range) will be removed.\n",
        "    There are two outputs: the optimal action, and the purified opt_actions\n",
        "    \"\"\"\n",
        "\n",
        "    if sum(i>7 for i in opt_actions) != 0 or sum(i<0 for i in opt_actions) != 0 or len(opt_actions) != len(set(opt_actions)) or len(opt_actions) == 0:\n",
        "      opt_actions = [-1]\n",
        "    min_manhattan = math.inf\n",
        "    optimal_next_action = [0, 0]\n",
        "    for i in opt_actions:\n",
        "      if i == -1:  #  # this means the output is error.\n",
        "        break\n",
        "      suppose_cur_x = self.cur_node[0] + self.action_space[i][0]\n",
        "      suppose_cur_y = self.cur_node[1] + self.action_space[i][1]\n",
        "      if suppose_cur_x >= self.max_margin or suppose_cur_x < 0 or suppose_cur_y < 0 or suppose_cur_y >= self.max_margin or abs(self.dis_table[suppose_cur_x][suppose_cur_y]) == 1024:  # out of map range\n",
        "        opt_actions.remove(i)\n",
        "        continue\n",
        "\n",
        "      manhattan_dis = abs(env.dis_table[suppose_cur_x][suppose_cur_y])\n",
        "      if manhattan_dis < min_manhattan:\n",
        "        min_manhattan = manhattan_dis\n",
        "        optimal_next_action = self.action_space[i]\n",
        "\n",
        "    return optimal_next_action, opt_actions\n",
        "\n",
        "  def save_search_history(self, opt_actions):\n",
        "    \"\"\"\n",
        "    This function aims to save the entire nodes the agent visited during path planning.\n",
        "    \"\"\"\n",
        "    # if sum(i>7 for i in opt_actions) != 0 or sum(i<0 for i in opt_actions) != 0 or len(opt_actions) != len(set(opt_actions)) or len(opt_actions) == 0:\n",
        "    if opt_actions == [-1]:\n",
        "      return # this means the output is error.\n",
        "\n",
        "    else:\n",
        "      for i in opt_actions:\n",
        "        action = self.action_space[i]\n",
        "        node = np.array(action) + np.array(self.cur_node)\n",
        "        node = node.tolist()\n",
        "\n",
        "        x = node[0]\n",
        "        y = node[1]\n",
        "\n",
        "        if x >= self.max_margin or x < 0 or y < 0 or y >= self.max_margin or abs(self.dis_table[x][y]) == 1024:  # out of map range\n",
        "          continue\n",
        "\n",
        "        if node not in self.search_history:\n",
        "          self.search_history.append(node)\n",
        "\n",
        "  def generate_traj_map(self):\n",
        "    map = np.expand_dims(self.map, axis=2) # shape: [32, 32, 1] or [16, 16, 1]\n",
        "    map1 = copy.deepcopy(map)\n",
        "    map2 = copy.deepcopy(map1)\n",
        "    map = (np.dstack((map, map1, map2)) * 255.0).astype(int)  # shape: [32, 32, 3] or [16, 16, 3]\n",
        "\n",
        "    start_x = self.start_node[0]\n",
        "    start_y = self.start_node[1]\n",
        "\n",
        "    for j in range(len(self.search_history)): # draw the cells in searched space to green\n",
        "      for k in range(len(self.search_history[j])):\n",
        "        map[self.search_history[j][k][0]][self.search_history[j][k][1]][0] = 0.0\n",
        "        map[self.search_history[j][k][0]][self.search_history[j][k][1]][1] = 1.0\n",
        "        map[self.search_history[j][k][0]][self.search_history[j][k][1]][2] = 0.0\n",
        "\n",
        "    for i in range(len(self.opt_path)):\n",
        "      start_x += self.opt_path[i][0]\n",
        "      start_y += self.opt_path[i][1]\n",
        "      map[start_x][start_y][0] = 1.0\n",
        "      map[start_x][start_y][1] = 0.0\n",
        "      map[start_x][start_y][2] = 0.0\n",
        "\n",
        "\n",
        "    traj_map = (map * 255.0).astype(int)\n",
        "\n",
        "    return traj_map\n",
        "\n",
        "\n",
        "  def image_show(self, map):\n",
        "\n",
        "    fig, axes = plt.subplots(2, 1, figsize=[12, 4])\n",
        "    axes[0].imshow(map)"
      ],
      "metadata": {
        "colab": {
          "base_uri": "https://localhost:8080/",
          "height": 17
        },
        "id": "hjkQvEB0480B",
        "outputId": "c1ac72f4-2592-4c93-bdd8-64c084c687d8"
      },
      "execution_count": null,
      "outputs": [
        {
          "output_type": "display_data",
          "data": {
            "text/plain": [
              "<IPython.core.display.HTML object>"
            ],
            "text/html": [
              "\n",
              "  <style>\n",
              "    pre {\n",
              "        white-space: pre-wrap;\n",
              "    }\n",
              "  </style>\n",
              "  "
            ]
          },
          "metadata": {}
        }
      ]
    },
    {
      "cell_type": "markdown",
      "source": [
        "**Environment Selection**"
      ],
      "metadata": {
        "id": "cOyUYzDcP51X"
      }
    },
    {
      "cell_type": "code",
      "source": [
        "map_name = 'Aisle'\n",
        "start = [1, 30]\n",
        "goal = [29, 2]\n",
        "env_description = \"Obstacles: This map mainly includes two obstacles respectively located at region A and B. This is the detail decription of grid regions occupied by obstacles, we deployed i and j as the index of row and column: Region A: i: [0:22], j: [13:18]; Region B: i: [26:31], j: [13:18]. Considering the token limitation problem, please correctly and precisely remember the information above and do not return to much contexts for not only this but also the following prompt. \"\n",
        "map_range ='A1:AF32'\n",
        "max_margin = 32\n"
      ],
      "metadata": {
        "colab": {
          "base_uri": "https://localhost:8080/",
          "height": 17
        },
        "id": "qZ96L5oJOe-R",
        "outputId": "5cfb2bfb-48c7-4986-a293-c43b99b0c897"
      },
      "execution_count": null,
      "outputs": [
        {
          "output_type": "display_data",
          "data": {
            "text/plain": [
              "<IPython.core.display.HTML object>"
            ],
            "text/html": [
              "\n",
              "  <style>\n",
              "    pre {\n",
              "        white-space: pre-wrap;\n",
              "    }\n",
              "  </style>\n",
              "  "
            ]
          },
          "metadata": {}
        }
      ]
    },
    {
      "cell_type": "code",
      "source": [
        "map_name = 'Canyon'\n",
        "start = [3, 23]\n",
        "goal = [21, 1]\n",
        "env_description = \"Obstacles: This map mainly includes four obstacles respectively located at region A, B, C and D. This is the detail decription of grid regions occupied by obstacles, we deployed i and j as the index of row and column: Region A: i: [0:15], j: [0:21]; Region B: i: [0:15], j: [25:31]; C: i: [22:31], j: [0:6]; Region D: i: [22:31], j: [10:31]. Considering the token limitation problem, please correctly and precisely remember the information above and do not return to much contexts for not only this but also the following prompt. \"\n",
        "map_range ='A1:AF32'\n",
        "max_margin = 32\n"
      ],
      "metadata": {
        "colab": {
          "base_uri": "https://localhost:8080/",
          "height": 17
        },
        "id": "IC9x508xOe1I",
        "outputId": "9df8a4ed-9f89-4b98-cfa2-efc10d44044c"
      },
      "execution_count": null,
      "outputs": [
        {
          "output_type": "display_data",
          "data": {
            "text/plain": [
              "<IPython.core.display.HTML object>"
            ],
            "text/html": [
              "\n",
              "  <style>\n",
              "    pre {\n",
              "        white-space: pre-wrap;\n",
              "    }\n",
              "  </style>\n",
              "  "
            ]
          },
          "metadata": {}
        }
      ]
    },
    {
      "cell_type": "code",
      "source": [
        "map_name = 'Double_door'\n",
        "start = [1, 29]\n",
        "goal = [28, 1]\n",
        "env_description = \"Obstacles: This map includes four obstacles respectively located at region A, B, C, and D. This is the detail decription of grid regions occupied by obstacles, we deployed i and j as the index of row and column: Region A: i: [0:26], j: [0:10]; Region B: i: [0:20], j: [11:21]; Region C: i: [30:31], j: [10:21]; Region D: i: [23:31], j: [21:31] except the grid i=23 and j=21. Considering the token limitation problem, please correctly and precisely remember the information above and do not return to much contexts for not only this but also the following prompt. \"\n",
        "map_range ='A1:AF32'\n",
        "max_margin = 32\n"
      ],
      "metadata": {
        "colab": {
          "base_uri": "https://localhost:8080/",
          "height": 17
        },
        "id": "NL8yjD__Oeod",
        "outputId": "5f0d7e62-8ce0-45d7-89cd-95eb04a32dcb"
      },
      "execution_count": null,
      "outputs": [
        {
          "output_type": "display_data",
          "data": {
            "text/plain": [
              "<IPython.core.display.HTML object>"
            ],
            "text/html": [
              "\n",
              "  <style>\n",
              "    pre {\n",
              "        white-space: pre-wrap;\n",
              "    }\n",
              "  </style>\n",
              "  "
            ]
          },
          "metadata": {}
        }
      ]
    },
    {
      "cell_type": "code",
      "source": [
        "map_name = 'Aisle_24'\n",
        "start = [1, 22]\n",
        "goal = [21, 2]\n",
        "map_range = 'A1:X24'\n",
        "max_margin = 24\n",
        "env_description = \"Obstacles: This map mainly includes two obstacles respectively located at region A and B. This is the detail decription of grid regions occupied by obstacles, we deployed i and j as the index of row and column: Region A: i: [0:15], j: [9:13]; Region B: i: [19:23], j: [9:13]. Considering the token limitation problem, please correctly and precisely remember the information above and do not return to much contexts for not only this but also the following prompt.\"\n"
      ],
      "metadata": {
        "colab": {
          "base_uri": "https://localhost:8080/",
          "height": 17
        },
        "id": "-QWqyb4f2HUM",
        "outputId": "6d990985-da33-4926-cedd-c9e781af826d"
      },
      "execution_count": null,
      "outputs": [
        {
          "output_type": "display_data",
          "data": {
            "text/plain": [
              "<IPython.core.display.HTML object>"
            ],
            "text/html": [
              "\n",
              "  <style>\n",
              "    pre {\n",
              "        white-space: pre-wrap;\n",
              "    }\n",
              "  </style>\n",
              "  "
            ]
          },
          "metadata": {}
        }
      ]
    },
    {
      "cell_type": "code",
      "source": [
        "map_name = 'Canyon_24'\n",
        "start = [2, 17]\n",
        "goal = [15, 2]\n",
        "map_range = 'A1:X24'\n",
        "max_margin = 24\n",
        "env_description = \"Obstacles: This map mainly includes four obstacles respectively located at region A, B, C and D. This is the detail decription of grid regions occupied by obstacles, we deployed i and j as the index of row and column: Region A: i: [0:11], j: [0:15]; Region B: i: [0:11], j: [19:23]; C: i: [16:23], j: [0:4]; Region D: i: [16:23], j: [8:23]. Considering the token limitation problem, please correctly and precisely remember the information above and do not return to much contexts for not only this but also the following prompt. \""
      ],
      "metadata": {
        "colab": {
          "base_uri": "https://localhost:8080/",
          "height": 17
        },
        "id": "GPVRuT2R2HzT",
        "outputId": "fb10f132-5476-48a3-94a0-02dc98e1048d"
      },
      "execution_count": null,
      "outputs": [
        {
          "output_type": "display_data",
          "data": {
            "text/plain": [
              "<IPython.core.display.HTML object>"
            ],
            "text/html": [
              "\n",
              "  <style>\n",
              "    pre {\n",
              "        white-space: pre-wrap;\n",
              "    }\n",
              "  </style>\n",
              "  "
            ]
          },
          "metadata": {}
        }
      ]
    },
    {
      "cell_type": "code",
      "source": [
        "map_name = 'Double_door_24'\n",
        "start = [1, 22]\n",
        "goal = [19, 1]\n",
        "map_range = 'A1:X24'\n",
        "max_margin = 24\n",
        "env_description = \"Obstacles: This map includes four obstacles respectively located at region A, B, C, and D. This is the detail decription of grid regions occupied by obstacles, we deployed i and j as the index of row and column: Region A: i: [0:17], j: [0:7]; Region B: i: [0:15], j: [8:16]; Region C: i: [21:23], j: [7:15]; Region D: i: [18:23], j: [16:23] except the region where i=18 and j=16. Considering the token limitation problem, please correctly and precisely remember the information above and do not return to much contexts for not only this but also the following prompt. \"\n"
      ],
      "metadata": {
        "colab": {
          "base_uri": "https://localhost:8080/",
          "height": 17
        },
        "id": "fVy8-bFJ2IPv",
        "outputId": "744cd0ca-b2d4-41e3-c44c-b12e67b600b8"
      },
      "execution_count": null,
      "outputs": [
        {
          "output_type": "display_data",
          "data": {
            "text/plain": [
              "<IPython.core.display.HTML object>"
            ],
            "text/html": [
              "\n",
              "  <style>\n",
              "    pre {\n",
              "        white-space: pre-wrap;\n",
              "    }\n",
              "  </style>\n",
              "  "
            ]
          },
          "metadata": {}
        }
      ]
    },
    {
      "cell_type": "code",
      "source": [
        "map_name = 'Aisle_16'\n",
        "start = [1, 13]\n",
        "goal = [14, 1]\n",
        "env_description = \"Obstacles: This map mainly includes two obstacles respectively located at region A and B. This is the detail decription of grid regions occupied by obstacles, we deployed i and j as the index of row and column: Region A: i: [0:8], j: [7:9]; Region B: i: [12:15], j: [7:9]. Considering the token limitation problem, please correctly and precisely remember the information above and do not return to much contexts for not only this but also the following prompt. \"\n",
        "map_range ='A1:P16'\n",
        "max_margin = 16\n"
      ],
      "metadata": {
        "colab": {
          "base_uri": "https://localhost:8080/",
          "height": 17
        },
        "id": "okDF8fvb49YF",
        "outputId": "2c7b5154-0e59-442d-d6dc-e0c3b921b9c2"
      },
      "execution_count": null,
      "outputs": [
        {
          "output_type": "display_data",
          "data": {
            "text/plain": [
              "<IPython.core.display.HTML object>"
            ],
            "text/html": [
              "\n",
              "  <style>\n",
              "    pre {\n",
              "        white-space: pre-wrap;\n",
              "    }\n",
              "  </style>\n",
              "  "
            ]
          },
          "metadata": {}
        }
      ]
    },
    {
      "cell_type": "code",
      "source": [
        "map_name = 'Canyon_16'\n",
        "start = [2, 10]\n",
        "goal = [11, 1]\n",
        "env_description = \"Obstacles: This map mainly includes four obstacles respectively located at region A, B, C and D. This is the detail decription of grid regions occupied by obstacles, we deployed i and j as the index of row and column: Region A: i: [0:8], j: [0:9]; Region B: i: [0:8], j: [12:15]; C: i: [12:15], j: [0:3]; Region D: i: [12:15], j: [6:15]. Considering the token limitation problem, please correctly and precisely remember the information above and do not return to much contexts for not only this but also the following prompt. \"\n",
        "map_range ='A1:P16'\n",
        "max_margin = 16\n"
      ],
      "metadata": {
        "colab": {
          "base_uri": "https://localhost:8080/",
          "height": 17
        },
        "id": "RpXPQ9285Auh",
        "outputId": "73fc5cd8-59a0-4a43-bbde-74b5875adca7"
      },
      "execution_count": null,
      "outputs": [
        {
          "output_type": "display_data",
          "data": {
            "text/plain": [
              "<IPython.core.display.HTML object>"
            ],
            "text/html": [
              "\n",
              "  <style>\n",
              "    pre {\n",
              "        white-space: pre-wrap;\n",
              "    }\n",
              "  </style>\n",
              "  "
            ]
          },
          "metadata": {}
        }
      ]
    },
    {
      "cell_type": "code",
      "source": [
        "map_name = 'Double_door_16'\n",
        "start = [1, 15]\n",
        "goal = [14, 1]\n",
        "env_description = \"Obstacles: This map includes four obstacles respectively located at region A, B, C, and D. This is the detail decription of grid regions occupied by obstacles, we deployed i and j as the index of row and column: Region A: i: [0:12], j: [0:4]; Region B: i: [0:10], j: [5:10]; Region C: i=15, j: [5:9]; Region D: i: [13:15], j: [10:15] except the grid i=13 and j=10. Considering the token limitation problem, please correctly and precisely remember the information above and do not return to much contexts for not only this but also the following prompt. \"\n",
        "map_range ='A1:P16'\n",
        "max_margin = 16\n"
      ],
      "metadata": {
        "colab": {
          "base_uri": "https://localhost:8080/",
          "height": 17
        },
        "id": "gu1SLxXh5DSn",
        "outputId": "8cfbd3bd-0c57-4c5e-8db1-6595faaa6efe"
      },
      "execution_count": null,
      "outputs": [
        {
          "output_type": "display_data",
          "data": {
            "text/plain": [
              "<IPython.core.display.HTML object>"
            ],
            "text/html": [
              "\n",
              "  <style>\n",
              "    pre {\n",
              "        white-space: pre-wrap;\n",
              "    }\n",
              "  </style>\n",
              "  "
            ]
          },
          "metadata": {}
        }
      ]
    },
    {
      "cell_type": "code",
      "source": [
        "map_path = 'YOUR_PATH' + map_name + '.xlsx'\n",
        "env = Astar_LLM_ImgData(map_path, start, goal, env_description, map_range, max_margin)\n",
        "env.generate_map()\n",
        "env.generate_dis_table()"
      ],
      "metadata": {
        "colab": {
          "base_uri": "https://localhost:8080/",
          "height": 17
        },
        "id": "tDziLuMl5IDN",
        "outputId": "89248b96-58fd-4782-a80f-705af7f8f6c2"
      },
      "execution_count": null,
      "outputs": [
        {
          "output_type": "display_data",
          "data": {
            "text/plain": [
              "<IPython.core.display.HTML object>"
            ],
            "text/html": [
              "\n",
              "  <style>\n",
              "    pre {\n",
              "        white-space: pre-wrap;\n",
              "    }\n",
              "  </style>\n",
              "  "
            ]
          },
          "metadata": {}
        }
      ]
    },
    {
      "cell_type": "markdown",
      "source": [
        "**Running**"
      ],
      "metadata": {
        "id": "YSYuwAZuQAbN"
      }
    },
    {
      "cell_type": "code",
      "source": [
        "\n",
        "env.message_initialize()\n",
        "\n",
        "\n",
        "while env.cur_node != env.target_node:\n",
        "\n",
        "  messages = copy.deepcopy(env.ini_massages)\n",
        "\n",
        "  # ask for subset of action space\n",
        "  ask_opt_actions_inf = \"Now, the agent is at the grid \" + str(env.cur_node) + \". Considering the current node the agent stays at above, based on the information of target nodes obstacles, action space and our objective, please for only the next step return me a subset of action space in which there are several optimal actions satisfied with the factors below: 1. Take care the obstacle regions I told you. Please always be careful do not move to them. 2. Take care the action space which includes at most 8 actions allowed, especially for some cells adjacent to the obstacles. 3. All of the optimal actions should serve for the purpose ‘achieve and reach the target node’. The agent must move in the correct direction while avoiding obstacles. Please prudentially deal with the causality relationship among obstacles and the correct direction and dinamically adjust and improve the solution. After selecting actions, please put the corresponding action numbers into a list and come out it. Considering the token limitation problem, please correctly and precisely remember the information above and do not return to much contexts for not only this but also the following prompt.\"\n",
        "  print(\"User: \", ask_opt_actions_inf)\n",
        "  messages.append({'role': 'user', 'content': ask_opt_actions_inf}, )\n",
        "  chat_for_task = openai.ChatCompletion.create(model='gpt-3.5-turbo-16k', messages=messages)\n",
        "  reply_for_task = chat_for_task.choices[0].message.content\n",
        "  print(f\"ChatGPT: {reply_for_task}\")\n",
        "  messages.append({'role': 'assistant', 'content': reply_for_task})\n",
        "\n",
        "  ask_opt_actions_inf = \"Please come out ONLY the action number list ITSELF again with the format 'opt_actions: [1, 2, 3]' and WITHOUT ANY OTHER CONTENTS WITH LIST FORMAT. This is exclusively for the convenience for extracting the action number list. So please do not output redundant information with the list format. \"\n",
        "  print(\"User: \", ask_opt_actions_inf)\n",
        "  messages.append({'role': 'user', 'content': ask_opt_actions_inf}, )\n",
        "  chat_for_task = openai.ChatCompletion.create(model='gpt-3.5-turbo-16k', messages=messages)\n",
        "  reply_for_task = chat_for_task.choices[0].message.content\n",
        "  print(f\"ChatGPT: {reply_for_task}\")\n",
        "  messages.append({'role': 'assistant', 'content': reply_for_task})\n",
        "\n",
        "  # extract optimal action list & save in search nodes memory\n",
        "\n",
        "  opt_actions = env.extract_node(reply_for_task)\n",
        "  print(f\"opt_actions: {opt_actions}\")\n",
        "\n",
        "  # select the optimal next step and save in optimal path memory\n",
        "\n",
        "  opt_action, final_opt_actions = env.greedy_decision(opt_actions)\n",
        "  print(f\"opt_aciton: {opt_action}\")\n",
        "  if opt_action != [0, 0]:\n",
        "    env.opt_path.append(opt_action)\n",
        "\n",
        "  env.save_search_history(final_opt_actions)\n",
        "\n",
        "  # update step\n",
        "\n",
        "  update_cur_node_x = env.cur_node[0] + opt_action[0]\n",
        "  update_cur_node_y = env.cur_node[1] + opt_action[1]\n",
        "  env.cur_node = [update_cur_node_x, update_cur_node_y]"
      ],
      "metadata": {
        "colab": {
          "base_uri": "https://localhost:8080/",
          "height": 17
        },
        "id": "AGtqiZGL5L_r",
        "outputId": "06b4e6e7-5e6e-4b52-a201-5adc371765b8"
      },
      "execution_count": null,
      "outputs": [
        {
          "output_type": "display_data",
          "data": {
            "text/plain": [
              "<IPython.core.display.HTML object>"
            ],
            "text/html": [
              "\n",
              "  <style>\n",
              "    pre {\n",
              "        white-space: pre-wrap;\n",
              "    }\n",
              "  </style>\n",
              "  "
            ]
          },
          "metadata": {}
        }
      ]
    },
    {
      "cell_type": "markdown",
      "source": [
        "**Result Generating**"
      ],
      "metadata": {
        "id": "y3EqXyZqP0sU"
      }
    },
    {
      "cell_type": "code",
      "source": [
        "path_vectors = env.opt_path\n",
        "searched_space = env.search_history\n",
        "path = [start]\n",
        "cur = np.array(path[0])\n",
        "\n",
        "steps = 1\n",
        "for node in path_vectors:\n",
        "  cur = cur + np.array(node)\n",
        "  path.append(cur.tolist())\n",
        "  steps += 1\n",
        "total_step = len(searched_space)"
      ],
      "metadata": {
        "colab": {
          "base_uri": "https://localhost:8080/",
          "height": 17
        },
        "id": "3KaQ7MNG5Mqm",
        "outputId": "47f23135-8b15-4eed-e332-297c3c67855a"
      },
      "execution_count": null,
      "outputs": [
        {
          "output_type": "display_data",
          "data": {
            "text/plain": [
              "<IPython.core.display.HTML object>"
            ],
            "text/html": [
              "\n",
              "  <style>\n",
              "    pre {\n",
              "        white-space: pre-wrap;\n",
              "    }\n",
              "  </style>\n",
              "  "
            ]
          },
          "metadata": {}
        }
      ]
    },
    {
      "cell_type": "code",
      "source": [
        "# generate pic beta\n",
        "\n",
        "map_r = copy.deepcopy(env.map)\n",
        "map_g = copy.deepcopy(map_r)\n",
        "map_b = copy.deepcopy(map_g)\n",
        "map = np.dstack((map_r, map_g, map_b)).astype(float)\n",
        "\n",
        "# generate searched nodes\n",
        "\n",
        "for node in searched_space:\n",
        "  x = node[0]\n",
        "  y = node[1]\n",
        "\n",
        "  map[x][y][0] = 0.0\n",
        "  map[x][y][1] = 1.0\n",
        "  map[x][y][2] = 0.0\n",
        "\n",
        "#\n",
        "\n",
        "delta_color = round(1.0 / len(path), 4)\n",
        "color_0 = 0.0\n",
        "color_2 = 1.0\n",
        "disp_vector = np.array(goal) - np.array(start)\n",
        "\n",
        "\n",
        "sum_angle = 0.0\n",
        "avg_angle = 0.0\n",
        "count = 0\n",
        "max_dev_times = 0\n",
        "\n",
        "for i in range(len(path)):\n",
        "\n",
        "  #  color it\n",
        "  node = path[i]\n",
        "\n",
        "  x = node[0]\n",
        "  y = node[1]\n",
        "\n",
        "  map[x][y][0] = color_0\n",
        "  map[x][y][1] = 0.0\n",
        "  map[x][y][2] = color_2\n",
        "\n",
        "  color_0 += delta_color\n",
        "  color_2 -= delta_color\n",
        "\n",
        "  if i == 0:\n",
        "    continue\n",
        "\n",
        "  count += 1\n",
        "  c_node = path[i]\n",
        "  p_node = path[i-1]\n",
        "\n",
        "  # calculate MDT :\n",
        "  dir_vector = np.array(c_node) - np.array(p_node)\n",
        "\n",
        "  if np.linalg.norm(dir_vector)*np.linalg.norm(disp_vector) == 0.0:\n",
        "\n",
        "    dis_angle = 0.0\n",
        "  else:\n",
        "    dis_angle = abs(np.arccos(np.clip(np.dot(dir_vector, disp_vector)/(np.linalg.norm(dir_vector)*np.linalg.norm(disp_vector)), -1.0, 1.0)))\n",
        "\n",
        "  dis_angle = round(dis_angle, 3)\n",
        "\n",
        "\n",
        "  bas_dir_vector = dir_vector\n",
        "\n",
        "  if dis_angle > math.pi / 2.0:\n",
        "    max_dev_times += 1\n",
        "\n",
        "\n",
        "path_map = (map * 255.0).astype(int)"
      ],
      "metadata": {
        "colab": {
          "base_uri": "https://localhost:8080/",
          "height": 17
        },
        "id": "rsTa5Z-jeo-v",
        "outputId": "44582303-91dc-4978-93c7-10e04d2fe98c"
      },
      "execution_count": null,
      "outputs": [
        {
          "output_type": "display_data",
          "data": {
            "text/plain": [
              "<IPython.core.display.HTML object>"
            ],
            "text/html": [
              "\n",
              "  <style>\n",
              "    pre {\n",
              "        white-space: pre-wrap;\n",
              "    }\n",
              "  </style>\n",
              "  "
            ]
          },
          "metadata": {}
        }
      ]
    },
    {
      "cell_type": "code",
      "source": [
        "# Generate the interactive records\n",
        "fig, axes = plt.subplots(1, 1, figsize=[12, 4])\n",
        "axes.imshow(path_map)\n",
        "axes.axis('off')"
      ],
      "metadata": {
        "id": "R3-JbNJO5ceF"
      },
      "execution_count": null,
      "outputs": []
    }
  ]
}